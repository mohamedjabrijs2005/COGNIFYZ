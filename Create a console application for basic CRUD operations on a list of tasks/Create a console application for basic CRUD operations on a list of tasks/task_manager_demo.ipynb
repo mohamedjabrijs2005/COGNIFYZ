{
 "cells": [
  {
   "cell_type": "markdown",
   "id": "23a8b6fa",
   "metadata": {},
   "source": [
    "# Task Manager Console Application Demo\n",
    "\n",
    "This notebook demonstrates the usage of the Task Manager Python console application."
   ]
  },
  {
   "cell_type": "code",
   "execution_count": null,
   "id": "9d217815",
   "metadata": {},
   "outputs": [],
   "source": [
    "# Define Task and TaskManager classes (from task_manager.py)\n",
    "class Task:\n",
    "    def __init__(self, task_id, title, description):\n",
    "        self.task_id = task_id\n",
    "        self.title = title\n",
    "        self.description = description\n",
    "\n",
    "    def __str__(self):\n",
    "        return f\"ID: {self.task_id} | Title: {self.title} | Description: {self.description}\"\n",
    "\n",
    "class TaskManager:\n",
    "    def __init__(self):\n",
    "        self.tasks = []\n",
    "        self.next_id = 1\n",
    "\n",
    "    def create_task(self, title, description):\n",
    "        task = Task(self.next_id, title, description)\n",
    "        self.tasks.append(task)\n",
    "        self.next_id += 1\n",
    "        print(\"Task created successfully!\")\n",
    "\n",
    "    def read_tasks(self):\n",
    "        if not self.tasks:\n",
    "            print(\"No tasks available.\")\n",
    "        else:\n",
    "            print(\"\\nTask List:\")\n",
    "            for task in self.tasks:\n",
    "                print(task)\n",
    "\n",
    "    def update_task(self, task_id, new_title, new_description):\n",
    "        for task in self.tasks:\n",
    "            if task.task_id == task_id:\n",
    "                task.title = new_title\n",
    "                task.description = new_description\n",
    "                print(\"Task updated successfully!\")\n",
    "                return\n",
    "        print(\"Task not found.\")\n",
    "\n",
    "    def delete_task(self, task_id):\n",
    "        for task in self.tasks:\n",
    "            if task.task_id == task_id:\n",
    "                self.tasks.remove(task)\n",
    "                print(\"Task deleted successfully!\")\n",
    "                return\n",
    "        print(\"Task not found.\")"
   ]
  },
  {
   "cell_type": "code",
   "execution_count": null,
   "id": "f3e78820",
   "metadata": {},
   "outputs": [],
   "source": [
    "# Demo: Create, Read, Update, Delete\n",
    "manager = TaskManager()\n",
    "\n",
    "# Create tasks\n",
    "manager.create_task(\"Buy groceries\", \"Milk, Bread, Eggs\")\n",
    "manager.create_task(\"Read book\", \"Finish reading chapter 4\")\n",
    "\n",
    "# Read tasks\n",
    "manager.read_tasks()\n",
    "\n",
    "# Update a task\n",
    "manager.update_task(1, \"Buy groceries and fruits\", \"Milk, Bread, Eggs, Apples\")\n",
    "\n",
    "# Read tasks again\n",
    "manager.read_tasks()\n",
    "\n",
    "# Delete a task\n",
    "manager.delete_task(2)\n",
    "\n",
    "# Final task list\n",
    "manager.read_tasks()"
   ]
  }
 ],
 "metadata": {
  "language_info": {
   "name": "python"
  }
 },
 "nbformat": 4,
 "nbformat_minor": 5
}
