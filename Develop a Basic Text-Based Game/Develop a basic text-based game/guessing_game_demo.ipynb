{
 "cells": [
  {
   "cell_type": "markdown",
   "id": "cf489691",
   "metadata": {},
   "source": [
    "# Number Guessing Game\n",
    "\n",
    "## Project Description\n",
    "This project demonstrates a basic text-based number guessing game implemented in Python. The user tries to guess a randomly selected number between 1 and 10. The game provides feedback after each guess and continues until the correct number is guessed.\n",
    "\n",
    "---\n",
    "\n",
    "## README\n",
    "\n",
    "### How to Run\n",
    "- Make sure you have Python 3.x installed.\n",
    "- Run the script `guessing_game.py` in your terminal:\n",
    "  ```bash\n",
    "  python guessing_game.py\n",
    "  ```\n",
    "- Alternatively, use the notebook cells below to interactively play the game.\n",
    "\n",
    "### Game Rules\n",
    "- The computer randomly selects a number between 1 and 10.\n",
    "- You enter your guess.\n",
    "- The game will tell you if your guess is too low, too high, or out of range.\n",
    "- Keep guessing until you find the correct number.\n",
    "- The game will display the number of attempts taken.\n",
    "\n",
    "### Requirements\n",
    "- Python 3.x\n",
    "\n",
    "---\n",
    "\n",
    "## Game Code\n",
    "Below is the code for the number guessing game. You can run it in this notebook or in a Python script file."
   ]
  },
  {
   "cell_type": "code",
   "execution_count": null,
   "id": "5c6325a9",
   "metadata": {},
   "outputs": [],
   "source": [
    "import random\n",
    "\n",
    "def guessing_game():\n",
    "    print(\"Welcome to the Number Guessing Game!\")\n",
    "    print(\"I'm thinking of a number between 1 and 10.\")\n",
    "    number = random.randint(1, 10)\n",
    "    attempts = 0\n",
    "    \n",
    "    while True:\n",
    "        guess = input(\"Take a guess: \")\n",
    "        attempts += 1\n",
    "        \n",
    "        if not guess.isdigit():\n",
    "            print(\"Please enter a valid number.\")\n",
    "            continue\n",
    "        guess = int(guess)\n",
    "        \n",
    "        if guess < 1 or guess > 10:\n",
    "            print(\"Your guess is out of range. Try again.\")\n",
    "        elif guess < number:\n",
    "            print(\"Too low! Try again.\")\n",
    "        elif guess > number:\n",
    "            print(\"Too high! Try again.\")\n",
    "        else:\n",
    "            print(f\"Congratulations! You guessed the number in {attempts} attempts.\")\n",
    "            break"
   ]
  },
  {
   "cell_type": "code",
   "execution_count": null,
   "id": "ae4994d6",
   "metadata": {},
   "outputs": [],
   "source": [
    "# Run the guessing game\n",
    "# Note: input() will prompt for input in a notebook cell\n",
    "\n",
    "guessing_game()"
   ]
  }
 ],
 "metadata": {
  "language_info": {
   "name": "python"
  }
 },
 "nbformat": 4,
 "nbformat_minor": 5
}
