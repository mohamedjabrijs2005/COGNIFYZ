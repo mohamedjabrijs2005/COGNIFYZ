{
 "cells": [
  {
   "cell_type": "markdown",
   "id": "ecd70cf9",
   "metadata": {},
   "source": [
    "# Temperature Converter\n",
    "\n",
    "Convert temperatures between Celsius and Fahrenheit."
   ]
  },
  {
   "cell_type": "code",
   "execution_count": null,
   "id": "a0aef875",
   "metadata": {},
   "outputs": [],
   "source": [
    "def celsius_to_fahrenheit(celsius):\n",
    "    return (celsius * 9/5) + 32\n",
    "\n",
    "def fahrenheit_to_celsius(fahrenheit):\n",
    "    return (fahrenheit - 32) * 5/9"
   ]
  },
  {
   "cell_type": "code",
   "execution_count": null,
   "id": "465b3d0a",
   "metadata": {},
   "outputs": [],
   "source": [
    "def convert_temperature():\n",
    "    print(\"Temperature Converter\")\n",
    "    temp = float(input(\"Enter the temperature value: \"))\n",
    "    direction = input('Choose conversion direction (\"C to F\" or \"F to C\"): ').strip().upper()\n",
    "\n",
    "    if direction == \"C TO F\":\n",
    "        result = celsius_to_fahrenheit(temp)\n",
    "        print(f\"{temp}°C is equal to {result:.2f}°F\")\n",
    "    elif direction == \"F TO C\":\n",
    "        result = fahrenheit_to_celsius(temp)\n",
    "        print(f\"{temp}°F is equal to {result:.2f}°C\")\n",
    "    else:\n",
    "        print('Invalid conversion direction. Please enter \"C to F\" or \"F to C\".')"
   ]
  },
  {
   "cell_type": "code",
   "execution_count": null,
   "id": "651c034d",
   "metadata": {},
   "outputs": [],
   "source": [
    "convert_temperature()"
   ]
  }
 ],
 "metadata": {
  "language_info": {
   "name": "python"
  }
 },
 "nbformat": 4,
 "nbformat_minor": 5
}
