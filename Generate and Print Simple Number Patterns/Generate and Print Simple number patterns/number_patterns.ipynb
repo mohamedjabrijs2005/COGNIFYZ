{
 "cells": [
  {
   "cell_type": "markdown",
   "id": "8640ce47",
   "metadata": {},
   "source": [
    "# Number Pattern Generator\n",
    "\n",
    "This notebook demonstrates how to generate and print simple number patterns using Python loops. You can explore different patterns, view the source code, and interactively generate patterns of your choice."
   ]
  },
  {
   "cell_type": "markdown",
   "id": "77fa8272",
   "metadata": {},
   "source": [
    "## Project Description\n",
    "\n",
    "This project allows you to generate and print various number patterns using Python. The available patterns are:\n",
    "\n",
    "- Left-aligned triangle\n",
    "- Right-aligned triangle\n",
    "- Pyramid\n",
    "- Inverted pyramid\n",
    "\n",
    "You can view the source code, see demonstrations, and interactively generate patterns."
   ]
  },
  {
   "cell_type": "markdown",
   "id": "c767ab1c",
   "metadata": {},
   "source": [
    "## Source Code\n",
    "\n",
    "Below is the Python source code for generating the number patterns. You can reference or modify it as needed."
   ]
  },
  {
   "cell_type": "code",
   "execution_count": null,
   "id": "2ec560d5",
   "metadata": {},
   "outputs": [],
   "source": [
    "# Display the source code of number_pyramid.py\n",
    "with open('number_pyramid.py', 'r') as f:\n",
    "    print(f.read())"
   ]
  },
  {
   "cell_type": "markdown",
   "id": "3d9130fb",
   "metadata": {},
   "source": [
    "## Demonstration of Number Pattern Functions\n",
    "\n",
    "Let's demonstrate each pattern function with a sample input (e.g., 5 rows)."
   ]
  },
  {
   "cell_type": "code",
   "execution_count": null,
   "id": "cd81c824",
   "metadata": {},
   "outputs": [],
   "source": [
    "def print_left_triangle(rows):\n",
    "    for i in range(1, rows + 1):\n",
    "        for j in range(1, i + 1):\n",
    "            print(j, end=' ')\n",
    "        print()\n",
    "\n",
    "def print_right_triangle(rows):\n",
    "    for i in range(1, rows + 1):\n",
    "        print(' ' * (rows - i), end='')\n",
    "        for j in range(1, i + 1):\n",
    "            print(j, end=' ')\n",
    "        print()\n",
    "\n",
    "def print_number_pyramid(rows):\n",
    "    for i in range(1, rows + 1):\n",
    "        print(' ' * (rows - i), end='')\n",
    "        for j in range(1, i + 1):\n",
    "            print(j, end=' ')\n",
    "        print()\n",
    "\n",
    "def print_inverted_pyramid(rows):\n",
    "    for i in range(rows, 0, -1):\n",
    "        print(' ' * (rows - i), end='')\n",
    "        for j in range(1, i + 1):\n",
    "            print(j, end=' ')\n",
    "        print()"
   ]
  },
  {
   "cell_type": "code",
   "execution_count": null,
   "id": "635f5208",
   "metadata": {},
   "outputs": [],
   "source": [
    "print('Left-aligned triangle (5 rows):')\n",
    "print_left_triangle(5)"
   ]
  },
  {
   "cell_type": "code",
   "execution_count": null,
   "id": "dc9c6c7c",
   "metadata": {},
   "outputs": [],
   "source": [
    "print('Right-aligned triangle (5 rows):')\n",
    "print_right_triangle(5)"
   ]
  },
  {
   "cell_type": "code",
   "execution_count": null,
   "id": "9fc4ac1d",
   "metadata": {},
   "outputs": [],
   "source": [
    "print('Pyramid (5 rows):')\n",
    "print_number_pyramid(5)"
   ]
  },
  {
   "cell_type": "code",
   "execution_count": null,
   "id": "5b4004fd",
   "metadata": {},
   "outputs": [],
   "source": [
    "print('Inverted pyramid (5 rows):')\n",
    "print_inverted_pyramid(5)"
   ]
  },
  {
   "cell_type": "markdown",
   "id": "89dcb6cc",
   "metadata": {},
   "source": [
    "## Interactive Pattern Selection\n",
    "\n",
    "Use the widget below to select a pattern and number of rows, then display the result."
   ]
  },
  {
   "cell_type": "code",
   "execution_count": null,
   "id": "b1fa7e79",
   "metadata": {},
   "outputs": [],
   "source": [
    "import ipywidgets as widgets\n",
    "from IPython.display import display, clear_output\n",
    "\n",
    "def show_pattern(pattern, rows):\n",
    "    clear_output(wait=True)\n",
    "    if pattern == 'Left-aligned triangle':\n",
    "        print_left_triangle(rows)\n",
    "    elif pattern == 'Right-aligned triangle':\n",
    "        print_right_triangle(rows)\n",
    "    elif pattern == 'Pyramid':\n",
    "        print_number_pyramid(rows)\n",
    "    elif pattern == 'Inverted pyramid':\n",
    "        print_inverted_pyramid(rows)\n",
    "\n",
    "pattern_dropdown = widgets.Dropdown(\n",
    "    options=['Left-aligned triangle', 'Right-aligned triangle', 'Pyramid', 'Inverted pyramid'],\n",
    "    value='Pyramid',\n",
    "    description='Pattern:'\n",
    ")\n",
    "rows_slider = widgets.IntSlider(value=5, min=1, max=15, step=1, description='Rows:')\n",
    "ui = widgets.VBox([pattern_dropdown, rows_slider])\n",
    "\n",
    "out = widgets.interactive_output(show_pattern, {'pattern': pattern_dropdown, 'rows': rows_slider})\n",
    "display(ui, out)"
   ]
  }
 ],
 "metadata": {
  "language_info": {
   "name": "python"
  }
 },
 "nbformat": 4,
 "nbformat_minor": 5
}
