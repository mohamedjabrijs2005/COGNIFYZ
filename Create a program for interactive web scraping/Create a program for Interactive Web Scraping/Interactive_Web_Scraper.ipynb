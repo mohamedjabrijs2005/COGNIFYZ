{
 "cells": [
  {
   "cell_type": "markdown",
   "id": "de1c0941",
   "metadata": {},
   "source": [
    "# Interactive Web Scraper\n",
    "\n",
    "This notebook demonstrates a simple interactive web scraping tool using Python, `requests`, and `BeautifulSoup`."
   ]
  },
  {
   "cell_type": "code",
   "execution_count": null,
   "id": "114b4cca",
   "metadata": {},
   "outputs": [],
   "source": [
    "import requests\n",
    "from bs4 import BeautifulSoup\n",
    "\n",
    "def scrape_website(url, selector):\n",
    "    try:\n",
    "        response = requests.get(url)\n",
    "        response.raise_for_status()\n",
    "        soup = BeautifulSoup(response.text, \"html.parser\")\n",
    "        elements = soup.select(selector)\n",
    "        if not elements:\n",
    "            print(\"No elements found for the given selector.\")\n",
    "            return\n",
    "        print(f\"\\nFound {len(elements)} elements:\\n\")\n",
    "        for idx, elem in enumerate(elements, 1):\n",
    "            text = elem.get_text(strip=True)\n",
    "            print(f\"{idx}. {text}\\n{'-'*40}\")\n",
    "    except Exception as e:\n",
    "        print(f\"Error: {e}\")"
   ]
  },
  {
   "cell_type": "markdown",
   "id": "3d9ddd02",
   "metadata": {},
   "source": [
    "## Example Usage\n",
    "\n",
    "Try scraping quotes from [Quotes to Scrape](https://quotes.toscrape.com/) using the selector `.quote`."
   ]
  },
  {
   "cell_type": "code",
   "execution_count": null,
   "id": "a15846b7",
   "metadata": {},
   "outputs": [],
   "source": [
    "# Example: Quotes to Scrape\n",
    "scrape_website('https://quotes.toscrape.com/', '.quote')"
   ]
  },
  {
   "cell_type": "markdown",
   "id": "b2b4acf4",
   "metadata": {},
   "source": [
    "You can try other websites and selectors as well. For example:\n",
    "- Bing search results: `.b_algo h2`\n",
    "- Wikipedia paragraphs: `p`"
   ]
  },
  {
   "cell_type": "code",
   "execution_count": null,
   "id": "d26a1628",
   "metadata": {},
   "outputs": [],
   "source": [
    "# Example: Bing search results\n",
    "scrape_website('https://www.bing.com/search?q=drive', '.b_algo h2')"
   ]
  }
 ],
 "metadata": {
  "language_info": {
   "name": "python"
  }
 },
 "nbformat": 4,
 "nbformat_minor": 5
}
