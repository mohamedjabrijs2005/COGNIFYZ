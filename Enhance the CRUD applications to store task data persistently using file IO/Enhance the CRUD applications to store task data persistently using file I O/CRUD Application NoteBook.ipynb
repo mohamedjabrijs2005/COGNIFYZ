{
 "cells": [
  {
   "cell_type": "markdown",
   "id": "cef53c32",
   "metadata": {},
   "source": [
    "# Task Manager CRUD Application with File Persistence\n",
    "\n",
    "This notebook demonstrates a simple Python CRUD (Create, Read, Update, Delete) application for managing tasks, with persistent storage using file I/O."
   ]
  },
  {
   "cell_type": "markdown",
   "id": "2187163b",
   "metadata": {},
   "source": [
    "## Features\n",
    "- Add, view, update, and delete tasks\n",
    "- Tasks are saved in a text file (`tasks.txt`) for persistence\n",
    "- Error handling for file operations"
   ]
  },
  {
   "cell_type": "code",
   "execution_count": null,
   "id": "9ca67363",
   "metadata": {},
   "outputs": [],
   "source": [
    "# Task Manager CRUD logic\n",
    "import os\n",
    "\n",
    "TASK_FILE = \"tasks.txt\"\n",
    "\n",
    "def load_tasks():\n",
    "    tasks = []\n",
    "    try:\n",
    "        if os.path.exists(TASK_FILE):\n",
    "            with open(TASK_FILE, \"r\") as f:\n",
    "                tasks = [line.strip() for line in f.readlines()]\n",
    "    except Exception as e:\n",
    "        print(f\"Error loading tasks: {e}\")\n",
    "    return tasks\n",
    "\n",
    "def save_tasks(tasks):\n",
    "    try:\n",
    "        with open(TASK_FILE, \"w\") as f:\n",
    "            for task in tasks:\n",
    "                f.write(task + \"\\n\")\n",
    "    except Exception as e:\n",
    "        print(f\"Error saving tasks: {e}\")"
   ]
  },
  {
   "cell_type": "code",
   "execution_count": null,
   "id": "9179dbce",
   "metadata": {},
   "outputs": [],
   "source": [
    "# Add a new task\n",
    "def add_task(tasks, task):\n",
    "    tasks.append(task)\n",
    "    save_tasks(tasks)\n",
    "    print(\"Task added.\")"
   ]
  },
  {
   "cell_type": "code",
   "execution_count": null,
   "id": "1f2dc913",
   "metadata": {},
   "outputs": [],
   "source": [
    "# View all tasks\n",
    "def view_tasks(tasks):\n",
    "    if not tasks:\n",
    "        print(\"No tasks found.\")\n",
    "    else:\n",
    "        for idx, task in enumerate(tasks, 1):\n",
    "            print(f\"{idx}. {task}\")"
   ]
  },
  {
   "cell_type": "code",
   "execution_count": null,
   "id": "84df93cb",
   "metadata": {},
   "outputs": [],
   "source": [
    "# Update a task\n",
    "def update_task(tasks, idx, new_task):\n",
    "    if 0 <= idx < len(tasks):\n",
    "        tasks[idx] = new_task\n",
    "        save_tasks(tasks)\n",
    "        print(\"Task updated.\")\n",
    "    else:\n",
    "        print(\"Invalid task number.\")"
   ]
  },
  {
   "cell_type": "code",
   "execution_count": null,
   "id": "039e0339",
   "metadata": {},
   "outputs": [],
   "source": [
    "# Delete a task\n",
    "def delete_task(tasks, idx):\n",
    "    if 0 <= idx < len(tasks):\n",
    "        tasks.pop(idx)\n",
    "        save_tasks(tasks)\n",
    "        print(\"Task deleted.\")\n",
    "    else:\n",
    "        print(\"Invalid task number.\")"
   ]
  },
  {
   "cell_type": "markdown",
   "id": "127f7f8e",
   "metadata": {},
   "source": [
    "## Example Usage"
   ]
  },
  {
   "cell_type": "code",
   "execution_count": null,
   "id": "f0a582a0",
   "metadata": {},
   "outputs": [],
   "source": [
    "# Load tasks\n",
    "tasks = load_tasks()\n",
    "view_tasks(tasks)"
   ]
  },
  {
   "cell_type": "code",
   "execution_count": null,
   "id": "3967c1e9",
   "metadata": {},
   "outputs": [],
   "source": [
    "# Add a task (example)\n",
    "add_task(tasks, \"Buy groceries\")\n",
    "view_tasks(tasks)"
   ]
  },
  {
   "cell_type": "code",
   "execution_count": null,
   "id": "38a11af3",
   "metadata": {},
   "outputs": [],
   "source": [
    "# Update a task (example: update first task)\n",
    "update_task(tasks, 0, \"Buy groceries and cook dinner\")\n",
    "view_tasks(tasks)"
   ]
  },
  {
   "cell_type": "code",
   "execution_count": null,
   "id": "1fb689ba",
   "metadata": {},
   "outputs": [],
   "source": [
    "# Delete a task (example: delete first task)\n",
    "delete_task(tasks, 0)\n",
    "view_tasks(tasks)"
   ]
  }
 ],
 "metadata": {
  "language_info": {
   "name": "python"
  }
 },
 "nbformat": 4,
 "nbformat_minor": 5
}
